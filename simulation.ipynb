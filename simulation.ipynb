{
 "cells": [
  {
   "cell_type": "code",
   "execution_count": 1,
   "metadata": {},
   "outputs": [],
   "source": [
    "from models import VocabularyKnowledgeModel, SimulatedUserEnv\n",
    "from plots import plot_knowledge_curve, plot_estimates, animate_normal_distributions"
   ]
  },
  {
   "cell_type": "code",
   "execution_count": 2,
   "metadata": {},
   "outputs": [],
   "source": [
    "# Create a simulated user with known parameters\n",
    "true_mu = 500\n",
    "true_std = 200\n",
    "env = SimulatedUserEnv(true_mu=true_mu, true_std=true_std)"
   ]
  },
  {
   "cell_type": "code",
   "execution_count": null,
   "metadata": {},
   "outputs": [],
   "source": [
    "# Initialize the model\n",
    "model = VocabularyKnowledgeModel(\n",
    "    mu0=25_000, std0=12_000, max_num_words=50_000\n",
    ")\n",
    "\n",
    "# Run Thompson sampling\n",
    "model.thompson_sampling(\n",
    "    env, \n",
    "    num_iterations=100, \n",
    "    method=\"bayesian\", \n",
    "    opt_iterations=500, \n",
    ")"
   ]
  },
  {
   "cell_type": "code",
   "execution_count": null,
   "metadata": {},
   "outputs": [],
   "source": [
    "plot_estimates(model.history_mu, model.history_std, true_mu, true_std)\n"
   ]
  },
  {
   "cell_type": "code",
   "execution_count": null,
   "metadata": {},
   "outputs": [],
   "source": [
    "plot_knowledge_curve(\n",
    "    model.observed_difficulties,\n",
    "    model.observed_responses,\n",
    "    model.mu0,\n",
    "    model.std0,\n",
    "    true_mu,\n",
    "    true_std,\n",
    ")\n"
   ]
  },
  {
   "cell_type": "code",
   "execution_count": null,
   "metadata": {},
   "outputs": [],
   "source": [
    "animate_normal_distributions(\n",
    "    model.history_mu,\n",
    "    model.history_std,\n",
    "    true_mu,\n",
    "    true_std,\n",
    ")\n"
   ]
  },
  {
   "cell_type": "code",
   "execution_count": null,
   "metadata": {},
   "outputs": [],
   "source": []
  }
 ],
 "metadata": {
  "kernelspec": {
   "display_name": "pyro",
   "language": "python",
   "name": "python3"
  },
  "language_info": {
   "codemirror_mode": {
    "name": "ipython",
    "version": 3
   },
   "file_extension": ".py",
   "mimetype": "text/x-python",
   "name": "python",
   "nbconvert_exporter": "python",
   "pygments_lexer": "ipython3",
   "version": "3.10.15"
  }
 },
 "nbformat": 4,
 "nbformat_minor": 2
}
