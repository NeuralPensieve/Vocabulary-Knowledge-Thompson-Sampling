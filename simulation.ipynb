{
 "cells": [
  {
   "cell_type": "code",
   "execution_count": 5,
   "metadata": {},
   "outputs": [],
   "source": [
    "from models import VocabularyKnowledgeModel, SimulatedUserEnv\n",
    "from plots import plot_knowledge_curve, plot_estimates, animate_normal_distributions"
   ]
  },
  {
   "cell_type": "code",
   "execution_count": 7,
   "metadata": {},
   "outputs": [],
   "source": [
    "# Create a simulated user with known parameters\n",
    "true_mu = 5000\n",
    "true_std = 500\n",
    "env = SimulatedUserEnv(true_mu=true_mu, true_std=true_std)"
   ]
  },
  {
   "cell_type": "code",
   "execution_count": null,
   "metadata": {},
   "outputs": [
    {
     "name": "stderr",
     "output_type": "stream",
     "text": [
      "Training: 100%|██████████| 500/500 [00:00<00:00, 564.25it/s, loss=0.9125] \n"
     ]
    },
    {
     "name": "stdout",
     "output_type": "stream",
     "text": [
      "******************************\n",
      "iteration: 0\n",
      "difficulty: 21049. Response: 0.\n",
      "mu: 13697. std: 6644.\n",
      "******************************\n"
     ]
    },
    {
     "name": "stderr",
     "output_type": "stream",
     "text": [
      "Training: 100%|██████████| 500/500 [00:01<00:00, 423.85it/s, loss=2.8333]\n"
     ]
    },
    {
     "name": "stdout",
     "output_type": "stream",
     "text": [
      "******************************\n",
      "iteration: 1\n",
      "difficulty: 6522. Response: 0.\n",
      "mu: 12208. std: 7270.\n",
      "******************************\n"
     ]
    },
    {
     "name": "stderr",
     "output_type": "stream",
     "text": [
      "Training: 100%|██████████| 500/500 [00:01<00:00, 382.91it/s, loss=2.7196] \n"
     ]
    },
    {
     "name": "stdout",
     "output_type": "stream",
     "text": [
      "******************************\n",
      "iteration: 2\n",
      "difficulty: 26687. Response: 0.\n",
      "mu: 10759. std: 7349.\n",
      "******************************\n"
     ]
    },
    {
     "name": "stderr",
     "output_type": "stream",
     "text": [
      "Training: 100%|██████████| 500/500 [00:01<00:00, 383.21it/s, loss=5.4835]\n"
     ]
    },
    {
     "name": "stdout",
     "output_type": "stream",
     "text": [
      "******************************\n",
      "iteration: 3\n",
      "difficulty: 8461. Response: 0.\n",
      "mu: 9213. std: 7516.\n",
      "******************************\n"
     ]
    },
    {
     "name": "stderr",
     "output_type": "stream",
     "text": [
      "Training: 100%|██████████| 500/500 [00:01<00:00, 382.90it/s, loss=3.9804] \n"
     ]
    },
    {
     "name": "stdout",
     "output_type": "stream",
     "text": [
      "******************************\n",
      "iteration: 4\n",
      "difficulty: 26045. Response: 0.\n",
      "mu: 8108. std: 7231.\n",
      "******************************\n"
     ]
    },
    {
     "name": "stderr",
     "output_type": "stream",
     "text": [
      "Training: 100%|██████████| 500/500 [00:01<00:00, 383.48it/s, loss=2.3511]\n"
     ]
    },
    {
     "name": "stdout",
     "output_type": "stream",
     "text": [
      "******************************\n",
      "iteration: 5\n",
      "difficulty: 2161. Response: 1.\n",
      "mu: 7446. std: 6652.\n",
      "******************************\n"
     ]
    },
    {
     "name": "stderr",
     "output_type": "stream",
     "text": [
      "Training: 100%|██████████| 500/500 [00:01<00:00, 446.99it/s, loss=5.3964]\n"
     ]
    },
    {
     "name": "stdout",
     "output_type": "stream",
     "text": [
      "******************************\n",
      "iteration: 6\n",
      "difficulty: 12417. Response: 0.\n",
      "mu: 6868. std: 6194.\n",
      "******************************\n"
     ]
    },
    {
     "name": "stderr",
     "output_type": "stream",
     "text": [
      "Training: 100%|██████████| 500/500 [00:00<00:00, 500.43it/s, loss=4.9774]\n"
     ]
    },
    {
     "name": "stdout",
     "output_type": "stream",
     "text": [
      "******************************\n",
      "iteration: 7\n",
      "difficulty: 10226. Response: 0.\n",
      "mu: 6225. std: 5654.\n",
      "******************************\n"
     ]
    },
    {
     "name": "stderr",
     "output_type": "stream",
     "text": [
      "Training: 100%|██████████| 500/500 [00:01<00:00, 423.11it/s, loss=4.7022]\n"
     ]
    },
    {
     "name": "stdout",
     "output_type": "stream",
     "text": [
      "******************************\n",
      "iteration: 8\n",
      "difficulty: 4380. Response: 1.\n",
      "mu: 6140. std: 5289.\n",
      "******************************\n"
     ]
    },
    {
     "name": "stderr",
     "output_type": "stream",
     "text": [
      "Training: 100%|██████████| 500/500 [00:01<00:00, 383.36it/s, loss=5.6207]\n"
     ]
    },
    {
     "name": "stdout",
     "output_type": "stream",
     "text": [
      "******************************\n",
      "iteration: 9\n",
      "difficulty: 3214. Response: 1.\n",
      "mu: 6017. std: 4867.\n",
      "******************************\n"
     ]
    },
    {
     "name": "stderr",
     "output_type": "stream",
     "text": [
      "Training: 100%|██████████| 500/500 [00:01<00:00, 383.15it/s, loss=6.3827]\n"
     ]
    },
    {
     "name": "stdout",
     "output_type": "stream",
     "text": [
      "******************************\n",
      "iteration: 10\n",
      "difficulty: 9830. Response: 0.\n",
      "mu: 5879. std: 4349.\n",
      "******************************\n"
     ]
    },
    {
     "name": "stderr",
     "output_type": "stream",
     "text": [
      "Training: 100%|██████████| 500/500 [00:01<00:00, 477.77it/s, loss=5.9144]\n"
     ]
    },
    {
     "name": "stdout",
     "output_type": "stream",
     "text": [
      "******************************\n",
      "iteration: 11\n",
      "difficulty: 9914. Response: 0.\n",
      "mu: 5894. std: 3914.\n",
      "******************************\n"
     ]
    },
    {
     "name": "stderr",
     "output_type": "stream",
     "text": [
      "Training: 100%|██████████| 500/500 [00:00<00:00, 501.49it/s, loss=6.2501]\n"
     ]
    },
    {
     "name": "stdout",
     "output_type": "stream",
     "text": [
      "******************************\n",
      "iteration: 12\n",
      "difficulty: 7011. Response: 0.\n",
      "mu: 5537. std: 3751.\n",
      "******************************\n"
     ]
    },
    {
     "name": "stderr",
     "output_type": "stream",
     "text": [
      "Training: 100%|██████████| 500/500 [00:00<00:00, 500.97it/s, loss=7.3712]\n"
     ]
    },
    {
     "name": "stdout",
     "output_type": "stream",
     "text": [
      "******************************\n",
      "iteration: 13\n",
      "difficulty: 5068. Response: 1.\n",
      "mu: 5688. std: 3398.\n",
      "******************************\n"
     ]
    },
    {
     "name": "stderr",
     "output_type": "stream",
     "text": [
      "Training: 100%|██████████| 500/500 [00:00<00:00, 501.96it/s, loss=5.5340]\n"
     ]
    },
    {
     "name": "stdout",
     "output_type": "stream",
     "text": [
      "******************************\n",
      "iteration: 14\n",
      "difficulty: 9930. Response: 0.\n",
      "mu: 5677. std: 3157.\n",
      "******************************\n"
     ]
    },
    {
     "name": "stderr",
     "output_type": "stream",
     "text": [
      "Training: 100%|██████████| 500/500 [00:00<00:00, 501.64it/s, loss=8.5709]\n"
     ]
    },
    {
     "name": "stdout",
     "output_type": "stream",
     "text": [
      "******************************\n",
      "iteration: 15\n",
      "difficulty: 4447. Response: 1.\n",
      "mu: 5747. std: 2786.\n",
      "******************************\n"
     ]
    },
    {
     "name": "stderr",
     "output_type": "stream",
     "text": [
      "Training: 100%|██████████| 500/500 [00:00<00:00, 501.93it/s, loss=5.7837]\n"
     ]
    },
    {
     "name": "stdout",
     "output_type": "stream",
     "text": [
      "******************************\n",
      "iteration: 16\n",
      "difficulty: 2039. Response: 1.\n",
      "mu: 5930. std: 2320.\n",
      "******************************\n"
     ]
    },
    {
     "name": "stderr",
     "output_type": "stream",
     "text": [
      "Training: 100%|██████████| 500/500 [00:00<00:00, 501.41it/s, loss=4.6944]\n"
     ]
    },
    {
     "name": "stdout",
     "output_type": "stream",
     "text": [
      "******************************\n",
      "iteration: 17\n",
      "difficulty: 4166. Response: 1.\n",
      "mu: 5932. std: 2083.\n",
      "******************************\n"
     ]
    },
    {
     "name": "stderr",
     "output_type": "stream",
     "text": [
      "Training: 100%|██████████| 500/500 [00:00<00:00, 502.33it/s, loss=9.4750]\n"
     ]
    },
    {
     "name": "stdout",
     "output_type": "stream",
     "text": [
      "******************************\n",
      "iteration: 18\n",
      "difficulty: 5505. Response: 0.\n",
      "mu: 5527. std: 2041.\n",
      "******************************\n"
     ]
    },
    {
     "name": "stderr",
     "output_type": "stream",
     "text": [
      "Training: 100%|██████████| 500/500 [00:01<00:00, 487.31it/s, loss=6.9295]\n"
     ]
    },
    {
     "name": "stdout",
     "output_type": "stream",
     "text": [
      "******************************\n",
      "iteration: 19\n",
      "difficulty: 6777. Response: 0.\n",
      "mu: 5465. std: 1782.\n",
      "******************************\n"
     ]
    },
    {
     "name": "stderr",
     "output_type": "stream",
     "text": [
      "Training: 100%|██████████| 500/500 [00:01<00:00, 424.00it/s, loss=9.5211]\n"
     ]
    },
    {
     "name": "stdout",
     "output_type": "stream",
     "text": [
      "******************************\n",
      "iteration: 20\n",
      "difficulty: 3560. Response: 1.\n",
      "mu: 5478. std: 1538.\n",
      "******************************\n"
     ]
    },
    {
     "name": "stderr",
     "output_type": "stream",
     "text": [
      "Training: 100%|██████████| 500/500 [00:01<00:00, 383.66it/s, loss=8.1128]\n"
     ]
    },
    {
     "name": "stdout",
     "output_type": "stream",
     "text": [
      "******************************\n",
      "iteration: 21\n",
      "difficulty: 4901. Response: 0.\n",
      "mu: 5323. std: 1574.\n",
      "******************************\n"
     ]
    },
    {
     "name": "stderr",
     "output_type": "stream",
     "text": [
      "Training: 100%|██████████| 500/500 [00:00<00:00, 501.56it/s, loss=11.4018]\n"
     ]
    },
    {
     "name": "stdout",
     "output_type": "stream",
     "text": [
      "******************************\n",
      "iteration: 22\n",
      "difficulty: 5428. Response: 0.\n",
      "mu: 5148. std: 1568.\n",
      "******************************\n"
     ]
    },
    {
     "name": "stderr",
     "output_type": "stream",
     "text": [
      "Training: 100%|██████████| 500/500 [00:01<00:00, 434.99it/s, loss=12.9198]\n"
     ]
    },
    {
     "name": "stdout",
     "output_type": "stream",
     "text": [
      "******************************\n",
      "iteration: 23\n",
      "difficulty: 5435. Response: 1.\n",
      "mu: 5117. std: 1662.\n",
      "******************************\n"
     ]
    },
    {
     "name": "stderr",
     "output_type": "stream",
     "text": [
      "Training: 100%|██████████| 500/500 [00:01<00:00, 383.39it/s, loss=12.6869]\n"
     ]
    },
    {
     "name": "stdout",
     "output_type": "stream",
     "text": [
      "******************************\n",
      "iteration: 24\n",
      "difficulty: 5825. Response: 0.\n",
      "mu: 5259. std: 1616.\n",
      "******************************\n"
     ]
    },
    {
     "name": "stderr",
     "output_type": "stream",
     "text": [
      "Training: 100%|██████████| 500/500 [00:01<00:00, 383.27it/s, loss=11.7508]\n"
     ]
    },
    {
     "name": "stdout",
     "output_type": "stream",
     "text": [
      "******************************\n",
      "iteration: 25\n",
      "difficulty: 3265. Response: 1.\n",
      "mu: 5262. std: 1537.\n",
      "******************************\n"
     ]
    },
    {
     "name": "stderr",
     "output_type": "stream",
     "text": [
      "Training: 100%|██████████| 500/500 [00:01<00:00, 383.20it/s, loss=11.0580]\n"
     ]
    },
    {
     "name": "stdout",
     "output_type": "stream",
     "text": [
      "******************************\n",
      "iteration: 26\n",
      "difficulty: 5097. Response: 0.\n",
      "mu: 5083. std: 1511.\n",
      "******************************\n"
     ]
    },
    {
     "name": "stderr",
     "output_type": "stream",
     "text": [
      "Training: 100%|██████████| 500/500 [00:01<00:00, 383.06it/s, loss=15.1023]\n"
     ]
    },
    {
     "name": "stdout",
     "output_type": "stream",
     "text": [
      "******************************\n",
      "iteration: 27\n",
      "difficulty: 5852. Response: 0.\n",
      "mu: 5062. std: 1413.\n",
      "******************************\n"
     ]
    },
    {
     "name": "stderr",
     "output_type": "stream",
     "text": [
      "Training: 100%|██████████| 500/500 [00:01<00:00, 383.19it/s, loss=13.1988]\n"
     ]
    },
    {
     "name": "stdout",
     "output_type": "stream",
     "text": [
      "******************************\n",
      "iteration: 28\n",
      "difficulty: 4335. Response: 1.\n",
      "mu: 5079. std: 1324.\n",
      "******************************\n"
     ]
    },
    {
     "name": "stderr",
     "output_type": "stream",
     "text": [
      "Training: 100%|██████████| 500/500 [00:01<00:00, 412.25it/s, loss=13.4236]\n"
     ]
    },
    {
     "name": "stdout",
     "output_type": "stream",
     "text": [
      "******************************\n",
      "iteration: 29\n",
      "difficulty: 4790. Response: 1.\n",
      "mu: 5148. std: 1276.\n",
      "******************************\n"
     ]
    },
    {
     "name": "stderr",
     "output_type": "stream",
     "text": [
      "Training: 100%|██████████| 500/500 [00:01<00:00, 412.61it/s, loss=11.7286]\n"
     ]
    },
    {
     "name": "stdout",
     "output_type": "stream",
     "text": [
      "******************************\n",
      "iteration: 30\n",
      "difficulty: 6705. Response: 0.\n",
      "mu: 5081. std: 1236.\n",
      "******************************\n"
     ]
    },
    {
     "name": "stderr",
     "output_type": "stream",
     "text": [
      "Training: 100%|██████████| 500/500 [00:01<00:00, 383.29it/s, loss=16.7950]\n"
     ]
    },
    {
     "name": "stdout",
     "output_type": "stream",
     "text": [
      "******************************\n",
      "iteration: 31\n",
      "difficulty: 4450. Response: 0.\n",
      "mu: 4948. std: 1313.\n",
      "******************************\n"
     ]
    },
    {
     "name": "stderr",
     "output_type": "stream",
     "text": [
      "Training: 100%|██████████| 500/500 [00:01<00:00, 478.29it/s, loss=15.1772]\n"
     ]
    },
    {
     "name": "stdout",
     "output_type": "stream",
     "text": [
      "******************************\n",
      "iteration: 32\n",
      "difficulty: 6138. Response: 0.\n",
      "mu: 4926. std: 1299.\n",
      "******************************\n"
     ]
    },
    {
     "name": "stderr",
     "output_type": "stream",
     "text": [
      "Training: 100%|██████████| 500/500 [00:00<00:00, 501.05it/s, loss=14.3570]\n"
     ]
    },
    {
     "name": "stdout",
     "output_type": "stream",
     "text": [
      "******************************\n",
      "iteration: 33\n",
      "difficulty: 4207. Response: 1.\n",
      "mu: 4912. std: 1313.\n",
      "******************************\n"
     ]
    },
    {
     "name": "stderr",
     "output_type": "stream",
     "text": [
      "Training:  81%|████████  | 406/500 [00:00<00:00, 501.02it/s, loss=14.7255]"
     ]
    }
   ],
   "source": [
    "# Initialize the model\n",
    "model = VocabularyKnowledgeModel(\n",
    "    mu0=25_000, std0=12_000, max_num_words=50_000\n",
    ")\n",
    "\n",
    "# Run Thompson sampling\n",
    "model.thompson_sampling(\n",
    "    env, \n",
    "    num_iterations=100, \n",
    "    method=\"bayesian\", \n",
    "    opt_iterations=500, \n",
    ")"
   ]
  },
  {
   "cell_type": "code",
   "execution_count": null,
   "metadata": {},
   "outputs": [],
   "source": [
    "plot_estimates(model.history_mu, model.history_std, true_mu, true_std)\n"
   ]
  },
  {
   "cell_type": "code",
   "execution_count": null,
   "metadata": {},
   "outputs": [],
   "source": [
    "plot_knowledge_curve(\n",
    "    model.observed_difficulties,\n",
    "    model.observed_responses,\n",
    "    model.mu0,\n",
    "    model.std0,\n",
    "    true_mu,\n",
    "    true_std,\n",
    ")\n"
   ]
  },
  {
   "cell_type": "code",
   "execution_count": null,
   "metadata": {},
   "outputs": [],
   "source": [
    "animate_normal_distributions(\n",
    "    model.history_mu,\n",
    "    model.history_std,\n",
    "    true_mu,\n",
    "    true_std,\n",
    ")\n"
   ]
  }
 ],
 "metadata": {
  "kernelspec": {
   "display_name": "pyro",
   "language": "python",
   "name": "python3"
  },
  "language_info": {
   "codemirror_mode": {
    "name": "ipython",
    "version": 3
   },
   "file_extension": ".py",
   "mimetype": "text/x-python",
   "name": "python",
   "nbconvert_exporter": "python",
   "pygments_lexer": "ipython3",
   "version": "3.10.15"
  }
 },
 "nbformat": 4,
 "nbformat_minor": 2
}
